{
 "cells": [
  {
   "cell_type": "code",
   "execution_count": 1,
   "id": "75cfdb8a-308c-4fe7-9306-b61d19da47d0",
   "metadata": {},
   "outputs": [],
   "source": [
    "import time\n",
    "import math\n",
    "import numpy as np\n",
    "import jax.numpy as jnp"
   ]
  },
  {
   "cell_type": "code",
   "execution_count": 2,
   "id": "c2a49d13-ae70-4534-8347-602e774fa4e8",
   "metadata": {},
   "outputs": [],
   "source": [
    "## n<=1000\n",
    "def timer(func):\n",
    "    def wrapper():\n",
    "        start = time.time()\n",
    "        func()\n",
    "        end = time.time()\n",
    "        print(f\"took {(end-start):2f} s\")\n",
    "    return wrapper"
   ]
  },
  {
   "cell_type": "code",
   "execution_count": 3,
   "id": "46e856c5-3a37-4d7d-9973-59bc6b99359e",
   "metadata": {},
   "outputs": [],
   "source": [
    "@timer\n",
    "def func1():\n",
    "    for i in range(1,150):\n",
    "        for ii in range(1,150):\n",
    "            for iii in range(1,150):\n",
    "                for iv in range(1,150):\n",
    "                    for v in range(1,150):\n",
    "                        if i**5 + ii**5 + iii**5 + iv**5 == v**5:\n",
    "                            print((i, ii, iii, iv, v))\n",
    "##took 15031.846844 s\n",
    "##found (27, 84, 110, 133, 144) - the only solution"
   ]
  },
  {
   "cell_type": "code",
   "execution_count": 4,
   "id": "ef2dac35-3b5d-4a92-b114-a463625c0df5",
   "metadata": {},
   "outputs": [],
   "source": [
    "#func1()"
   ]
  },
  {
   "cell_type": "code",
   "execution_count": 5,
   "id": "e60b034f-9d63-4beb-bda6-70cfcdf14a6a",
   "metadata": {},
   "outputs": [],
   "source": [
    "@timer\n",
    "def func2():\n",
    "    for i in range(1,150):\n",
    "        for ii in range(1,150):\n",
    "            for iii in range(1,150):\n",
    "                for iv in range(1,150):\n",
    "                        if math.modf((i**5 + ii**5 + iii**5 + iv**5)**0.2)[0]<1e-13:\n",
    "                            print((i, ii, iii, iv, math.modf((27**5 + 84**5 + 110**5 + 133**5)**0.2)[1]))\n",
    "                        "
   ]
  },
  {
   "cell_type": "code",
   "execution_count": 6,
   "id": "5f484c9f-788c-4b4b-af0e-08649db1980c",
   "metadata": {},
   "outputs": [],
   "source": [
    "#func2()\n",
    "##took 142.895608"
   ]
  },
  {
   "cell_type": "code",
   "execution_count": 7,
   "id": "c7d43e77-37bd-4ff2-8b6e-7a0133cd0bf5",
   "metadata": {},
   "outputs": [
    {
     "data": {
      "text/plain": [
       "105.19460362980504"
      ]
     },
     "execution_count": 7,
     "metadata": {},
     "output_type": "execute_result"
    }
   ],
   "source": [
    "15031.846844/142.895608"
   ]
  },
  {
   "cell_type": "code",
   "execution_count": 8,
   "id": "8b7fbde5-e1b8-46b9-b738-b57e9e758aee",
   "metadata": {},
   "outputs": [],
   "source": [
    "##this requires too much memory, and doesn't work\n",
    "@timer\n",
    "def func_numpy():\n",
    "    a, b, c, d = np.ix_(np.arange(1,150), np.arange(1,150), np.arange(1,150), np.arange(1,150))\n",
    "    p = (np.array(np.meshgrid(a,b,c,d)).T**5).sum(axis=-1)\n",
    "    idx = np.argwhere(np.mod(np.power(p, 1/5),1) == 0)\n",
    "    return np.column_stack((idx, p[idx[:,0],idx[:,1],idx[:,2],idx[:,3]]))"
   ]
  },
  {
   "cell_type": "code",
   "execution_count": null,
   "id": "5995ccbb-3262-494f-b0f4-8aa3ffdfc803",
   "metadata": {},
   "outputs": [],
   "source": [
    "res =func_numpy()\n",
    "res"
   ]
  },
  {
   "cell_type": "code",
   "execution_count": null,
   "id": "c87f8770-ff7d-4d69-98e1-20679ba1e005",
   "metadata": {},
   "outputs": [],
   "source": []
  },
  {
   "cell_type": "code",
   "execution_count": null,
   "id": "05629c8e-bfbc-4cfd-91d9-372b4701105f",
   "metadata": {},
   "outputs": [],
   "source": []
  },
  {
   "cell_type": "code",
   "execution_count": null,
   "id": "3c4ee2d2-8e28-496d-8a44-39ca1b802669",
   "metadata": {},
   "outputs": [],
   "source": []
  },
  {
   "cell_type": "code",
   "execution_count": null,
   "id": "1e883665-f4e3-4a3d-96bb-41b65fd86916",
   "metadata": {},
   "outputs": [],
   "source": []
  },
  {
   "cell_type": "code",
   "execution_count": null,
   "id": "7c643650-ce26-4a17-b597-2d3ad46530ee",
   "metadata": {},
   "outputs": [],
   "source": []
  },
  {
   "cell_type": "code",
   "execution_count": null,
   "id": "1de87693-1bda-4fe1-8668-fd6d485393c3",
   "metadata": {},
   "outputs": [],
   "source": []
  },
  {
   "cell_type": "code",
   "execution_count": null,
   "id": "90cdd080-e278-4daa-83e7-77455c0dc6d3",
   "metadata": {},
   "outputs": [],
   "source": []
  },
  {
   "cell_type": "code",
   "execution_count": null,
   "id": "e6448736-5c1f-43fb-890e-081411974d02",
   "metadata": {},
   "outputs": [],
   "source": []
  },
  {
   "cell_type": "code",
   "execution_count": null,
   "id": "c8232019-a178-4449-ac2a-9705067af5c5",
   "metadata": {},
   "outputs": [],
   "source": []
  },
  {
   "cell_type": "code",
   "execution_count": null,
   "id": "48b87352-8d37-4bd8-9382-464f6ad50a22",
   "metadata": {},
   "outputs": [],
   "source": []
  },
  {
   "cell_type": "code",
   "execution_count": null,
   "id": "3130ed83-6066-4bdb-a0cf-f467a1fc2800",
   "metadata": {},
   "outputs": [],
   "source": []
  }
 ],
 "metadata": {
  "kernelspec": {
   "display_name": "dostNN",
   "language": "python",
   "name": "dostnn"
  },
  "language_info": {
   "codemirror_mode": {
    "name": "ipython",
    "version": 3
   },
   "file_extension": ".py",
   "mimetype": "text/x-python",
   "name": "python",
   "nbconvert_exporter": "python",
   "pygments_lexer": "ipython3",
   "version": "3.11.6"
  }
 },
 "nbformat": 4,
 "nbformat_minor": 5
}
