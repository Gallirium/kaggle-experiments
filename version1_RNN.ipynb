{
 "cells": [
  {
   "cell_type": "code",
   "execution_count": 1,
   "id": "debdc37a-18c3-4be2-9727-ca77a838a60f",
   "metadata": {},
   "outputs": [
    {
     "name": "stderr",
     "output_type": "stream",
     "text": [
      "2023-10-03 22:42:57.478145: I tensorflow/core/platform/cpu_feature_guard.cc:182] This TensorFlow binary is optimized to use available CPU instructions in performance-critical operations.\n",
      "To enable the following instructions: SSE3 SSE4.1 SSE4.2 AVX AVX2 FMA, in other operations, rebuild TensorFlow with the appropriate compiler flags.\n",
      "/usr/lib/python3.11/site-packages/h5py/__init__.py:36: UserWarning: h5py is running against HDF5 1.14.2 when it was built against 1.14.1, this may cause problems\n",
      "  _warn((\"h5py is running against HDF5 {0} when it was built against {1}, \"\n"
     ]
    }
   ],
   "source": [
    "import numpy as np\n",
    "import pandas as pd\n",
    "from tqdm import tqdm\n",
    "from sklearn.model_selection import train_test_split\n",
    "import tensorflow as tf\n",
    "\n",
    "import matplotlib.pyplot as plt\n",
    "import seaborn as sns\n",
    "%matplotlib inline"
   ]
  },
  {
   "cell_type": "code",
   "execution_count": 2,
   "id": "446a6820-d058-44d6-a651-19fe84748338",
   "metadata": {},
   "outputs": [],
   "source": [
    "train = pd.read_csv('./jigsaw-toxic-comment-train.csv')\n",
    "valid = pd.read_csv('./validation.csv')\n",
    "test = pd.read_csv('./test.csv')"
   ]
  },
  {
   "cell_type": "code",
   "execution_count": 3,
   "id": "4509a6f3-dc3a-41a4-ac33-af6d45aa4be8",
   "metadata": {},
   "outputs": [],
   "source": [
    "train.drop(['severe_toxic', 'obscene', 'threat', 'insult', 'identity_hate'],axis=1, inplace=True)"
   ]
  },
  {
   "cell_type": "code",
   "execution_count": 4,
   "id": "e47d9e3c-dba9-4c59-9bfb-3431c99c1064",
   "metadata": {},
   "outputs": [
    {
     "data": {
      "text/plain": [
       "(223549, 3)"
      ]
     },
     "execution_count": 4,
     "metadata": {},
     "output_type": "execute_result"
    }
   ],
   "source": [
    "train.shape"
   ]
  },
  {
   "cell_type": "code",
   "execution_count": 5,
   "id": "c011f074-e764-4593-9c2e-cfc137013691",
   "metadata": {},
   "outputs": [
    {
     "data": {
      "text/plain": [
       "2321"
      ]
     },
     "execution_count": 5,
     "metadata": {},
     "output_type": "execute_result"
    }
   ],
   "source": [
    "train['comment_text'].apply(lambda x: len(str(x).split())).max()"
   ]
  },
  {
   "cell_type": "code",
   "execution_count": 6,
   "id": "a0979540-0e32-4949-9011-5e87532e11e9",
   "metadata": {},
   "outputs": [],
   "source": [
    "from sklearn.metrics import roc_curve, auc"
   ]
  },
  {
   "cell_type": "code",
   "execution_count": 15,
   "id": "6f7758cd-bdeb-42e3-82da-7c1b399558c3",
   "metadata": {},
   "outputs": [],
   "source": [
    "def roc_auc(predictions, target):\n",
    "    fpr, tpr, thresholds = roc_curve(target, predictions)\n",
    "    roc_auc = auc(fpr, tpr)\n",
    "    return roc_auc"
   ]
  },
  {
   "cell_type": "code",
   "execution_count": 8,
   "id": "e5cd6651-9da2-4a52-babe-93350eb2d247",
   "metadata": {},
   "outputs": [],
   "source": [
    "x_train, x_valid, y_train, y_valid = train_test_split(\n",
    "    train.comment_text.values, train.toxic.values,\n",
    "    stratify = train.toxic.values,\n",
    "    random_state = 42,\n",
    "    test_size = 0.2, shuffle = True\n",
    ")"
   ]
  },
  {
   "cell_type": "code",
   "execution_count": 9,
   "id": "671f3041-bee8-40b5-89d0-51512d8a2db9",
   "metadata": {},
   "outputs": [],
   "source": [
    "from keras.preprocessing import text\n",
    "from keras.utils import pad_sequences\n",
    "\n",
    "token = text.Tokenizer(num_words=None)\n",
    "max_len = 2500\n",
    "\n",
    "token.fit_on_texts(list(x_train) + list(x_valid))\n",
    "x_train_seq = token.texts_to_sequences(x_train)\n",
    "x_valid_seq = token.texts_to_sequences(x_valid)\n",
    "\n",
    "x_train_pad = pad_sequences(x_train_seq, maxlen=max_len)\n",
    "x_valid_pad = pad_sequences(x_valid_seq, maxlen=max_len)\n",
    "\n",
    "word_index = token.word_index"
   ]
  },
  {
   "cell_type": "code",
   "execution_count": 10,
   "id": "b5466d65-16b6-44d0-98ec-9942710ed715",
   "metadata": {},
   "outputs": [],
   "source": [
    "from keras.models import Sequential\n",
    "from keras.layers import SimpleRNN, Dense, Embedding"
   ]
  },
  {
   "cell_type": "code",
   "execution_count": 11,
   "id": "df011457-4e74-4a1d-a77c-99f177131ef3",
   "metadata": {},
   "outputs": [
    {
     "name": "stderr",
     "output_type": "stream",
     "text": [
      "2023-10-03 22:43:12.188620: E tensorflow/compiler/xla/stream_executor/cuda/cuda_driver.cc:268] failed call to cuInit: CUDA_ERROR_UNKNOWN: unknown error\n",
      "2023-10-03 22:43:12.188645: I tensorflow/compiler/xla/stream_executor/cuda/cuda_diagnostics.cc:168] retrieving CUDA diagnostic information for host: gallirium\n",
      "2023-10-03 22:43:12.188650: I tensorflow/compiler/xla/stream_executor/cuda/cuda_diagnostics.cc:175] hostname: gallirium\n",
      "2023-10-03 22:43:12.188802: I tensorflow/compiler/xla/stream_executor/cuda/cuda_diagnostics.cc:199] libcuda reported version is: 535.113.1\n",
      "2023-10-03 22:43:12.188820: I tensorflow/compiler/xla/stream_executor/cuda/cuda_diagnostics.cc:203] kernel reported version is: 535.113.1\n",
      "2023-10-03 22:43:12.188824: I tensorflow/compiler/xla/stream_executor/cuda/cuda_diagnostics.cc:309] kernel version seems to match DSO: 535.113.1\n",
      "2023-10-03 22:43:12.191308: I tensorflow/core/common_runtime/process_util.cc:146] Creating new thread pool with default inter op setting: 2. Tune using inter_op_parallelism_threads for best performance.\n"
     ]
    },
    {
     "name": "stdout",
     "output_type": "stream",
     "text": [
      "Model: \"sequential\"\n",
      "_________________________________________________________________\n",
      " Layer (type)                Output Shape              Param #   \n",
      "=================================================================\n",
      " embedding (Embedding)       (None, 2500, 300)         90077400  \n",
      "                                                                 \n",
      " simple_rnn (SimpleRNN)      (None, 100)               40100     \n",
      "                                                                 \n",
      " dense (Dense)               (None, 1)                 101       \n",
      "                                                                 \n",
      "=================================================================\n",
      "Total params: 90,117,601\n",
      "Trainable params: 90,117,601\n",
      "Non-trainable params: 0\n",
      "_________________________________________________________________\n",
      "CPU times: user 1.21 s, sys: 1.25 s, total: 2.46 s\n",
      "Wall time: 316 ms\n"
     ]
    }
   ],
   "source": [
    "%%time\n",
    "model = Sequential()\n",
    "model.add(Embedding(len(word_index)+1, 300, input_length=max_len))\n",
    "model.add(SimpleRNN(100))\n",
    "model.add(Dense(1, activation='sigmoid'))\n",
    "model.compile(loss='binary_crossentropy', optimizer='adam', metrics=['accuracy'])\n",
    "\n",
    "model.summary()"
   ]
  },
  {
   "cell_type": "code",
   "execution_count": 12,
   "id": "1b3a62e0-8a3d-4a0f-b88d-0b1c8bc8b9ef",
   "metadata": {},
   "outputs": [
    {
     "name": "stdout",
     "output_type": "stream",
     "text": [
      "699/699 [==============================] - 2011s 3s/step - loss: 0.2202 - accuracy: 0.9266\n"
     ]
    },
    {
     "data": {
      "text/plain": [
       "<keras.callbacks.History at 0x7fddb0a94a90>"
      ]
     },
     "execution_count": 12,
     "metadata": {},
     "output_type": "execute_result"
    }
   ],
   "source": [
    "model.fit(x_train_pad, y_train, epochs=1, batch_size=256)"
   ]
  },
  {
   "cell_type": "code",
   "execution_count": 13,
   "id": "6d721eb2-bee2-459c-8bd6-808aca0a1b87",
   "metadata": {},
   "outputs": [
    {
     "name": "stdout",
     "output_type": "stream",
     "text": [
      "1398/1398 [==============================] - 390s 279ms/step\n"
     ]
    }
   ],
   "source": [
    "scores = model.predict(x_valid_pad)"
   ]
  },
  {
   "cell_type": "code",
   "execution_count": 16,
   "id": "a243a579-af29-4a28-9657-0ba8aee5dca9",
   "metadata": {},
   "outputs": [
    {
     "name": "stdout",
     "output_type": "stream",
     "text": [
      "AUC: 0.8962901335849808\n"
     ]
    }
   ],
   "source": [
    "print(f\"AUC: {roc_auc(scores, y_valid)}\")"
   ]
  },
  {
   "cell_type": "code",
   "execution_count": 17,
   "id": "11bfd790-9e8a-4d09-8585-63ceb5021337",
   "metadata": {},
   "outputs": [],
   "source": [
    "## We can do better!!\n",
    "## Maybe LSTMs or BERT..?"
   ]
  },
  {
   "cell_type": "code",
   "execution_count": null,
   "id": "d53d7ae8-f8bf-47bc-9ff1-de5e41e44c8d",
   "metadata": {},
   "outputs": [],
   "source": []
  },
  {
   "cell_type": "code",
   "execution_count": null,
   "id": "05793e5e-8897-4912-89bc-a95841777d0f",
   "metadata": {},
   "outputs": [],
   "source": []
  }
 ],
 "metadata": {
  "kernelspec": {
   "display_name": "Python 3 (ipykernel)",
   "language": "python",
   "name": "python3"
  },
  "language_info": {
   "codemirror_mode": {
    "name": "ipython",
    "version": 3
   },
   "file_extension": ".py",
   "mimetype": "text/x-python",
   "name": "python",
   "nbconvert_exporter": "python",
   "pygments_lexer": "ipython3",
   "version": "3.11.5"
  }
 },
 "nbformat": 4,
 "nbformat_minor": 5
}
